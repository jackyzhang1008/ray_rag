{
 "cells": [
  {
   "cell_type": "code",
   "id": "initial_id",
   "metadata": {
    "collapsed": true,
    "ExecuteTime": {
     "end_time": "2025-06-13T19:12:31.098579Z",
     "start_time": "2025-06-13T19:12:30.855373Z"
    }
   },
   "source": [
    "import torch\n",
    "import torch.nn as nn\n",
    "import torch.optim as optim\n",
    "import torchvision\n",
    "import torchvision.transforms as transforms\n",
    "from torchvision.models import resnet152, ResNet152_Weights\n",
    "from torchvision import transforms\n",
    "from PIL import Image\n",
    "from pathlib import Path\n",
    "import matplotlib.pyplot as plt\n"
   ],
   "outputs": [],
   "execution_count": 8
  },
  {
   "metadata": {
    "ExecuteTime": {
     "end_time": "2025-06-13T19:12:31.107929Z",
     "start_time": "2025-06-13T19:12:31.106039Z"
    }
   },
   "cell_type": "code",
   "source": [
    "# Create a 2D tensor\n",
    "x = torch.tensor([[1.0, 2.0], [3.0, 4.0]])\n",
    "\n",
    "# Create a random tensor with gradients\n",
    "w = torch.randn(2, 2, requires_grad=True)\n",
    "\n",
    "# Matrix multiplication\n",
    "y = x @ w\n"
   ],
   "id": "8047130973ba105f",
   "outputs": [],
   "execution_count": 9
  },
  {
   "metadata": {
    "ExecuteTime": {
     "end_time": "2025-06-13T19:12:31.118607Z",
     "start_time": "2025-06-13T19:12:31.116315Z"
    }
   },
   "cell_type": "code",
   "source": [
    "# Define a simple feedforward network\n",
    "class Net(nn.Module):\n",
    "    def __init__(self):\n",
    "        super(Net, self).__init__()\n",
    "        self.fc = nn.Linear(2, 1)  # 2 input features, 1 output\n",
    "\n",
    "    def forward(self, x):\n",
    "        return self.fc(x)\n",
    "\n",
    "model = Net()\n"
   ],
   "id": "8f661e14188b63ce",
   "outputs": [],
   "execution_count": 10
  },
  {
   "metadata": {
    "ExecuteTime": {
     "end_time": "2025-06-13T19:12:31.135271Z",
     "start_time": "2025-06-13T19:12:31.133545Z"
    }
   },
   "cell_type": "code",
   "source": [
    "criterion = nn.MSELoss()              # Mean squared error loss\n",
    "optimizer = optim.SGD(model.parameters(), lr=0.01)\n"
   ],
   "id": "2a06a0d76e103dc9",
   "outputs": [],
   "execution_count": 11
  },
  {
   "metadata": {
    "ExecuteTime": {
     "end_time": "2025-06-13T19:12:31.157002Z",
     "start_time": "2025-06-13T19:12:31.146989Z"
    }
   },
   "cell_type": "code",
   "source": [
    "# Sample input and target\n",
    "inputs = torch.tensor([[1.0, 2.0]])\n",
    "targets = torch.tensor([[1.0]])\n",
    "\n",
    "# Training loop\n",
    "for epoch in range(100):\n",
    "    outputs = model(inputs)\n",
    "    loss = criterion(outputs, targets)\n",
    "\n",
    "    optimizer.zero_grad()\n",
    "    loss.backward()\n",
    "    optimizer.step()\n",
    "\n",
    "    if epoch % 10 == 0:\n",
    "        print(f'Epoch {epoch}, Loss: {loss.item():.4f}')\n"
   ],
   "id": "d358e4ea801d3d9b",
   "outputs": [
    {
     "name": "stdout",
     "output_type": "stream",
     "text": [
      "Epoch 0, Loss: 0.3025\n",
      "Epoch 10, Loss: 0.0235\n",
      "Epoch 20, Loss: 0.0018\n",
      "Epoch 30, Loss: 0.0001\n",
      "Epoch 40, Loss: 0.0000\n",
      "Epoch 50, Loss: 0.0000\n",
      "Epoch 60, Loss: 0.0000\n",
      "Epoch 70, Loss: 0.0000\n",
      "Epoch 80, Loss: 0.0000\n",
      "Epoch 90, Loss: 0.0000\n"
     ]
    }
   ],
   "execution_count": 12
  },
  {
   "metadata": {
    "ExecuteTime": {
     "end_time": "2025-06-13T19:12:37.772918Z",
     "start_time": "2025-06-13T19:12:31.172798Z"
    }
   },
   "cell_type": "code",
   "source": [
    "weights = ResNet152_Weights.DEFAULT\n",
    "model = resnet152(weights=weights)\n",
    "model.eval()\n",
    "preprocess = weights.transforms()\n"
   ],
   "id": "fac2830f1096698b",
   "outputs": [
    {
     "name": "stderr",
     "output_type": "stream",
     "text": [
      "Downloading: \"https://download.pytorch.org/models/resnet152-f82ba261.pth\" to /Users/jackyzhang/.cache/torch/hub/checkpoints/resnet152-f82ba261.pth\n",
      "100%|██████████| 230M/230M [00:05<00:00, 48.3MB/s] \n"
     ]
    }
   ],
   "execution_count": 13
  },
  {
   "metadata": {
    "ExecuteTime": {
     "end_time": "2025-06-13T19:12:38.009929Z",
     "start_time": "2025-06-13T19:12:37.783379Z"
    }
   },
   "cell_type": "code",
   "source": [
    "def load_images(folder, limit=10):\n",
    "    paths = list(Path(folder).glob(\"*.jpg\"))[:limit]\n",
    "    images = []\n",
    "    names = []\n",
    "    for path in paths:\n",
    "        img = Image.open(path).convert(\"RGB\")\n",
    "        images.append(preprocess(img))\n",
    "        names.append(path.name)\n",
    "    return torch.stack(images), names\n",
    "\n",
    "batched_tensor, names = load_images(\"path/to/images\")\n"
   ],
   "id": "a3cf8197e43c115d",
   "outputs": [
    {
     "ename": "RuntimeError",
     "evalue": "stack expects a non-empty TensorList",
     "output_type": "error",
     "traceback": [
      "\u001B[0;31m---------------------------------------------------------------------------\u001B[0m",
      "\u001B[0;31mRuntimeError\u001B[0m                              Traceback (most recent call last)",
      "Cell \u001B[0;32mIn[14], line 11\u001B[0m\n\u001B[1;32m      8\u001B[0m         names\u001B[38;5;241m.\u001B[39mappend(path\u001B[38;5;241m.\u001B[39mname)\n\u001B[1;32m      9\u001B[0m     \u001B[38;5;28;01mreturn\u001B[39;00m torch\u001B[38;5;241m.\u001B[39mstack(images), names\n\u001B[0;32m---> 11\u001B[0m batched_tensor, names \u001B[38;5;241m=\u001B[39m load_images(\u001B[38;5;124m\"\u001B[39m\u001B[38;5;124mpath/to/images\u001B[39m\u001B[38;5;124m\"\u001B[39m)\n",
      "Cell \u001B[0;32mIn[14], line 9\u001B[0m, in \u001B[0;36mload_images\u001B[0;34m(folder, limit)\u001B[0m\n\u001B[1;32m      7\u001B[0m     images\u001B[38;5;241m.\u001B[39mappend(preprocess(img))\n\u001B[1;32m      8\u001B[0m     names\u001B[38;5;241m.\u001B[39mappend(path\u001B[38;5;241m.\u001B[39mname)\n\u001B[0;32m----> 9\u001B[0m \u001B[38;5;28;01mreturn\u001B[39;00m torch\u001B[38;5;241m.\u001B[39mstack(images), names\n",
      "\u001B[0;31mRuntimeError\u001B[0m: stack expects a non-empty TensorList"
     ]
    }
   ],
   "execution_count": 14
  },
  {
   "metadata": {},
   "cell_type": "code",
   "outputs": [],
   "execution_count": null,
   "source": [
    "with torch.no_grad():\n",
    "    outputs = model(batched_tensor)\n",
    "preds = outputs.argmax(dim=1)\n",
    "labels = weights.meta[\"categories\"]\n",
    "predicted = [labels[i] for i in preds]\n"
   ],
   "id": "c59f3b45b69da374"
  },
  {
   "metadata": {},
   "cell_type": "code",
   "outputs": [],
   "execution_count": null,
   "source": [
    "for name, pred in zip(names, predicted):\n",
    "    print(f\"{name}: {pred}\")\n"
   ],
   "id": "a252220dc4a1a601"
  }
 ],
 "metadata": {
  "kernelspec": {
   "display_name": "Python 3",
   "language": "python",
   "name": "python3"
  },
  "language_info": {
   "codemirror_mode": {
    "name": "ipython",
    "version": 2
   },
   "file_extension": ".py",
   "mimetype": "text/x-python",
   "name": "python",
   "nbconvert_exporter": "python",
   "pygments_lexer": "ipython2",
   "version": "2.7.6"
  }
 },
 "nbformat": 4,
 "nbformat_minor": 5
}
