{
 "cells": [
  {
   "cell_type": "code",
   "execution_count": 2,
   "id": "8a032396",
   "metadata": {},
   "outputs": [],
   "source": [
    "import ray.data\n",
    "\n"
   ]
  },
  {
   "cell_type": "code",
   "execution_count": null,
   "id": "24129d47",
   "metadata": {},
   "outputs": [
    {
     "name": "stderr",
     "output_type": "stream",
     "text": [
      "2025-05-07 00:26:32,774\tERROR services.py:1362 -- Failed to start the dashboard , return code 3221226505\n",
      "2025-05-07 00:26:32,775\tERROR services.py:1387 -- Error should be written to 'dashboard.log' or 'dashboard.err'. We are printing the last 20 lines for you. See 'https://docs.ray.io/en/master/ray-observability/user-guides/configure-logging.html#logging-directory-structure' to find where the log file is.\n",
      "2025-05-07 00:26:32,781\tERROR services.py:1431 -- \n",
      "The last 20 lines of C:\\Users\\Jacky\\AppData\\Local\\Temp\\ray\\session_2025-05-07_00-26-31_334537_597656\\logs\\dashboard.log (it contains the error message from the dashboard): \n",
      "Traceback (most recent call last):\n",
      "  File \"c:\\Users\\Jacky\\anaconda3\\envs\\ray\\Lib\\site-packages\\ray\\dashboard\\dashboard.py\", line 247, in <module>\n",
      "    logging_utils.redirect_stdout_stderr_if_needed(\n",
      "  File \"c:\\Users\\Jacky\\anaconda3\\envs\\ray\\Lib\\site-packages\\ray\\_private\\logging_utils.py\", line 48, in redirect_stdout_stderr_if_needed\n",
      "    sys.stderr = open_log(stderr_fileno, unbuffered=True, closefd=False)\n",
      "                 ^^^^^^^^^^^^^^^^^^^^^^^^^^^^^^^^^^^^^^^^^^^^^^^^^^^^^^^\n",
      "  File \"c:\\Users\\Jacky\\anaconda3\\envs\\ray\\Lib\\site-packages\\ray\\_private\\utils.py\", line 446, in open_log\n",
      "    stream = open(path, **kwargs)\n",
      "             ^^^^^^^^^^^^^^^^^^^^\n",
      "OSError: [WinError 6] The handle is invalid\n",
      "\n",
      "\n",
      "2025-05-07 00:26:32,942\tINFO worker.py:1888 -- Started a local Ray instance.\n"
     ]
    }
   ],
   "source": [
    "import requests\n",
    "from ray.data.datasource import Datasource, ReadTask\n",
    "from typing import List\n",
    "import pandas as pd\n",
    "\n",
    "\n",
    "class CrisisAPIDatasource(Datasource):\n",
    "    def prepare_read(self, parallelism: int, **kwargs) -> List[ReadTask]:\n",
    "        def read():\n",
    "            # Simulate one partition's data\n",
    "            response = requests.get(\"https://api.crisiswatch.org/v1/events\")\n",
    "            data = response.json()[\"results\"]\n",
    "            return iter([pd.DataFrame(data)])\n",
    "\n",
    "        return [ReadTask(read, lambda: 1)]\n",
    "\n",
    "# Load data using the custom API datasource\n",
    "ds = ray.data.read_datasource(CrisisAPIDatasource())\n",
    "\n",
    "# Show some of the results\n",
    "ds.show(limit=5)\n",
    "\n"
   ]
  }
 ],
 "metadata": {
  "kernelspec": {
   "display_name": "ray",
   "language": "python",
   "name": "python3"
  },
  "language_info": {
   "codemirror_mode": {
    "name": "ipython",
    "version": 3
   },
   "file_extension": ".py",
   "mimetype": "text/x-python",
   "name": "python",
   "nbconvert_exporter": "python",
   "pygments_lexer": "ipython3",
   "version": "3.12.9"
  }
 },
 "nbformat": 4,
 "nbformat_minor": 5
}
