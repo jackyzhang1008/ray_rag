{
 "cells": [
  {
   "cell_type": "code",
   "id": "a19b0650",
   "metadata": {
    "ExecuteTime": {
     "end_time": "2025-05-10T00:54:33.786327Z",
     "start_time": "2025-05-10T00:54:10.826023Z"
    }
   },
   "source": "!ray stop --force",
   "outputs": [
    {
     "name": "stdout",
     "output_type": "stream",
     "text": [
      "\u001B[33m(raylet)\u001B[0m Raylet is terminated. Termination is unexpected. Possible reasons include: (1) SIGKILL by the user or system OOM killer, (2) Invalid memory access from Raylet causing SIGSEGV or SIGBUS, (3) Other termination signals. Last 20 lines of the Raylet logs:\n",
      "    [state-dump] \tray::rpc::InternalPubSubGcsService.grpc_client.GcsSubscriberPoll - 4 total (1 active), Execution time: mean = 1.610 s, total = 6.439 s, Queueing time: mean = 0.000 ns, max = -1.000 ns, min = 9223372036.855 s, total = 0.000 ns\n",
      "    [state-dump] \tray::rpc::InternalPubSubGcsService.grpc_client.GcsSubscriberPoll.OnReplyReceived - 3 total (0 active), Execution time: mean = 94.667 us, total = 284.000 us, Queueing time: mean = 75.000 us, max = 191.000 us, min = 9.000 us, total = 225.000 us\n",
      "    [state-dump] \tray::rpc::InternalPubSubGcsService.grpc_client.GcsSubscriberCommandBatch - 2 total (0 active), Execution time: mean = 242.500 us, total = 485.000 us, Queueing time: mean = 0.000 ns, max = -1.000 ns, min = 9223372036.855 s, total = 0.000 ns\n",
      "    [state-dump] \tRaySyncerRegister - 2 total (0 active), Execution time: mean = 2.500 us, total = 5.000 us, Queueing time: mean = 0.000 ns, max = 0.000 ns, min = 0.000 ns, total = 0.000 ns\n",
      "    [state-dump] \tray::rpc::InternalPubSubGcsService.grpc_client.GcsSubscriberCommandBatch.OnReplyReceived - 2 total (0 active), Execution time: mean = 60.000 us, total = 120.000 us, Queueing time: mean = 678.000 us, max = 1.260 ms, min = 96.000 us, total = 1.356 ms\n",
      "    [state-dump] \tray::rpc::NodeInfoGcsService.grpc_client.GetAllNodeInfo.OnReplyReceived - 1 total (0 active), Execution time: mean = 79.000 us, total = 79.000 us, Queueing time: mean = 19.000 us, max = 19.000 us, min = 19.000 us, total = 19.000 us\n",
      "    [state-dump] \tray::rpc::JobInfoGcsService.grpc_client.GetAllJobInfo - 1 total (0 active), Execution time: mean = 174.000 us, total = 174.000 us, Queueing time: mean = 0.000 ns, max = -1.000 ns, min = 9223372036.855 s, total = 0.000 ns\n",
      "    [state-dump] \tray::rpc::JobInfoGcsService.grpc_client.AddJob - 1 total (0 active), Execution time: mean = 350.000 us, total = 350.000 us, Queueing time: mean = 0.000 ns, max = -1.000 ns, min = 9223372036.855 s, total = 0.000 ns\n",
      "    [state-dump] \tray::rpc::JobInfoGcsService.grpc_client.AddJob.OnReplyReceived - 1 total (0 active), Execution time: mean = 17.000 us, total = 17.000 us, Queueing time: mean = 80.000 us, max = 80.000 us, min = 80.000 us, total = 80.000 us\n",
      "    [state-dump] \tray::rpc::NodeInfoGcsService.grpc_client.RegisterNode - 1 total (0 active), Execution time: mean = 624.000 us, total = 624.000 us, Queueing time: mean = 0.000 ns, max = -1.000 ns, min = 9223372036.855 s, total = 0.000 ns\n",
      "    [state-dump] \tray::rpc::InternalKVGcsService.grpc_client.GetInternalConfig - 1 total (0 active), Execution time: mean = 369.000 us, total = 369.000 us, Queueing time: mean = 0.000 ns, max = -1.000 ns, min = 9223372036.855 s, total = 0.000 ns\n",
      "    [state-dump] \tray::rpc::NodeInfoGcsService.grpc_client.RegisterNode.OnReplyReceived - 1 total (0 active), Execution time: mean = 130.000 us, total = 130.000 us, Queueing time: mean = 12.000 us, max = 12.000 us, min = 12.000 us, total = 12.000 us\n",
      "    [state-dump] \tSubscriber.HandlePublishedMessage_GCS_JOB_CHANNEL - 1 total (0 active), Execution time: mean = 29.000 us, total = 29.000 us, Queueing time: mean = 102.000 us, max = 102.000 us, min = 102.000 us, total = 102.000 us\n",
      "    [state-dump] \tray::rpc::InternalKVGcsService.grpc_client.GetInternalConfig.OnReplyReceived - 1 total (0 active), Execution time: mean = 4.943 ms, total = 4.943 ms, Queueing time: mean = 8.000 us, max = 8.000 us, min = 8.000 us, total = 8.000 us\n",
      "    [state-dump] \tNodeManager.GCTaskFailureReason - 1 total (1 active), Execution time: mean = 0.000 ns, total = 0.000 ns, Queueing time: mean = 0.000 ns, max = -1.000 ns, min = 9223372036.855 s, total = 0.000 ns\n",
      "    [state-dump] \tray::rpc::NodeInfoGcsService.grpc_client.GetAllNodeInfo - 1 total (0 active), Execution time: mean = 251.000 us, total = 251.000 us, Queueing time: mean = 0.000 ns, max = -1.000 ns, min = 9223372036.855 s, total = 0.000 ns\n",
      "    [state-dump] \tray::rpc::JobInfoGcsService.grpc_client.GetAllJobInfo.OnReplyReceived - 1 total (0 active), Execution time: mean = 6.000 us, total = 6.000 us, Queueing time: mean = 10.000 us, max = 10.000 us, min = 10.000 us, total = 10.000 us\n",
      "    [state-dump] DebugString() time ms: 0\n",
      "    [state-dump] \n",
      "    [state-dump] \n",
      "\n",
      "\u001B[33m(raylet)\u001B[0m The node with node id: cac625517c17e9fd1f1776c5ebda05433aae3f6ecea2037f7b84d4fd and address: 127.0.0.1 and node name: 127.0.0.1 has been marked dead because the detector has missed too many heartbeats from it. This can happen when a \t(1) raylet crashes unexpectedly (OOM, etc.) \n",
      "\t(2) raylet has lagging heartbeats due to slow network or busy workload.\n"
     ]
    },
    {
     "name": "stderr",
     "output_type": "stream",
     "text": [
      "[2025-05-09 20:54:25,517 E 9102 259458] core_worker.cc:941: :info_message: Attempting to recover 102 lost objects by resubmitting their tasks or setting a new primary location from existing copies. To disable object reconstruction, set @ray.remote(max_retries=0).\n"
     ]
    },
    {
     "name": "stdout",
     "output_type": "stream",
     "text": [
      "Stopped only 14 out of 20 Ray processes within the grace period 16 seconds. Set `-v` to see more details. Remaining processes [psutil.Process(pid=9464, name='raylet', status='zombie', started='20:47:05'), psutil.Process(pid=9457, name='python3.12', status='zombie', started='20:47:04'), psutil.Process(pid=9459, name='python3.12', status='zombie', started='20:47:04'), psutil.Process(pid=9460, name='python3.12', status='zombie', started='20:47:04'), psutil.Process(pid=9465, name='python3.12', status='zombie', started='20:47:05'), psutil.Process(pid=9458, name='gcs_server', status='zombie', started='20:47:04')] will be forcefully terminated.\r\n",
      "You can also use `--force` to forcefully terminate processes or set higher `--grace-period` to wait longer time for proper termination.\r\n",
      "\u001B[0m"
     ]
    }
   ],
   "execution_count": 15
  },
  {
   "cell_type": "code",
   "id": "8a032396",
   "metadata": {
    "ExecuteTime": {
     "end_time": "2025-05-10T00:58:09.281932Z",
     "start_time": "2025-05-10T00:58:07.700537Z"
    }
   },
   "source": [
    "import ray\n",
    "ray.init()"
   ],
   "outputs": [
    {
     "name": "stderr",
     "output_type": "stream",
     "text": [
      "2025-05-09 20:58:07,897\tINFO util.py:154 -- Outdated packages:\n",
      "  ipywidgets==7.8.1 found, needs ipywidgets>=8\n",
      "Run `pip install -U ipywidgets`, then restart the notebook server for rich notebook output.\n",
      "2025-05-09 20:58:08,782\tINFO worker.py:1888 -- Started a local Ray instance.\n"
     ]
    },
    {
     "data": {
      "text/plain": [
       "RayContext(dashboard_url='', python_version='3.12.4', ray_version='2.46.0', ray_commit='c3dd2ca0c2a24ddf327a213d2e936bd4eaa4ca0a')"
      ],
      "text/html": [
       "<div class=\"lm-Widget p-Widget lm-Panel p-Panel jp-Cell-outputWrapper\">\n",
       "    <div style=\"margin-left: 50px;display: flex;flex-direction: row;align-items: center\">\n",
       "        <div class=\"jp-RenderedHTMLCommon\" style=\"display: flex; flex-direction: row;\">\n",
       "  <svg viewBox=\"0 0 567 224\" fill=\"none\" xmlns=\"http://www.w3.org/2000/svg\" style=\"height: 3em;\">\n",
       "    <g clip-path=\"url(#clip0_4338_178347)\">\n",
       "        <path d=\"M341.29 165.561H355.29L330.13 129.051C345.63 123.991 354.21 112.051 354.21 94.2307C354.21 71.3707 338.72 58.1807 311.88 58.1807H271V165.561H283.27V131.661H311.8C314.25 131.661 316.71 131.501 319.01 131.351L341.25 165.561H341.29ZM283.29 119.851V70.0007H311.82C331.3 70.0007 342.34 78.2907 342.34 94.5507C342.34 111.271 331.34 119.861 311.82 119.861L283.29 119.851ZM451.4 138.411L463.4 165.561H476.74L428.74 58.1807H416L367.83 165.561H380.83L392.83 138.411H451.4ZM446.19 126.601H398L422 72.1407L446.24 126.601H446.19ZM526.11 128.741L566.91 58.1807H554.35L519.99 114.181L485.17 58.1807H472.44L514.01 129.181V165.541H526.13V128.741H526.11Z\" fill=\"var(--jp-ui-font-color0)\"/>\n",
       "        <path d=\"M82.35 104.44C84.0187 97.8827 87.8248 92.0678 93.1671 87.9146C98.5094 83.7614 105.083 81.5067 111.85 81.5067C118.617 81.5067 125.191 83.7614 130.533 87.9146C135.875 92.0678 139.681 97.8827 141.35 104.44H163.75C164.476 101.562 165.622 98.8057 167.15 96.2605L127.45 56.5605C121.071 60.3522 113.526 61.6823 106.235 60.3005C98.9443 58.9187 92.4094 54.9203 87.8602 49.0574C83.3109 43.1946 81.0609 35.8714 81.5332 28.4656C82.0056 21.0599 85.1679 14.0819 90.4252 8.8446C95.6824 3.60726 102.672 0.471508 110.08 0.0272655C117.487 -0.416977 124.802 1.86091 130.647 6.4324C136.493 11.0039 140.467 17.5539 141.821 24.8501C143.175 32.1463 141.816 39.6859 138 46.0505L177.69 85.7505C182.31 82.9877 187.58 81.4995 192.962 81.4375C198.345 81.3755 203.648 82.742 208.33 85.3976C213.012 88.0532 216.907 91.9029 219.616 96.5544C222.326 101.206 223.753 106.492 223.753 111.875C223.753 117.258 222.326 122.545 219.616 127.197C216.907 131.848 213.012 135.698 208.33 138.353C203.648 141.009 198.345 142.375 192.962 142.313C187.58 142.251 182.31 140.763 177.69 138L138 177.7C141.808 184.071 143.155 191.614 141.79 198.91C140.424 206.205 136.44 212.75 130.585 217.313C124.731 221.875 117.412 224.141 110.004 223.683C102.596 223.226 95.6103 220.077 90.3621 214.828C85.1139 209.58 81.9647 202.595 81.5072 195.187C81.0497 187.779 83.3154 180.459 87.878 174.605C92.4405 168.751 98.9853 164.766 106.281 163.401C113.576 162.035 121.119 163.383 127.49 167.19L167.19 127.49C165.664 124.941 164.518 122.182 163.79 119.3H141.39C139.721 125.858 135.915 131.673 130.573 135.826C125.231 139.98 118.657 142.234 111.89 142.234C105.123 142.234 98.5494 139.98 93.2071 135.826C87.8648 131.673 84.0587 125.858 82.39 119.3H60C58.1878 126.495 53.8086 132.78 47.6863 136.971C41.5641 141.163 34.1211 142.972 26.7579 142.059C19.3947 141.146 12.6191 137.574 7.70605 132.014C2.79302 126.454 0.0813599 119.29 0.0813599 111.87C0.0813599 104.451 2.79302 97.2871 7.70605 91.7272C12.6191 86.1673 19.3947 82.5947 26.7579 81.6817C34.1211 80.7686 41.5641 82.5781 47.6863 86.7696C53.8086 90.9611 58.1878 97.2456 60 104.44H82.35ZM100.86 204.32C103.407 206.868 106.759 208.453 110.345 208.806C113.93 209.159 117.527 208.258 120.522 206.256C123.517 204.254 125.725 201.276 126.771 197.828C127.816 194.38 127.633 190.677 126.253 187.349C124.874 184.021 122.383 181.274 119.205 179.577C116.027 177.88 112.359 177.337 108.826 178.042C105.293 178.746 102.113 180.654 99.8291 183.44C97.5451 186.226 96.2979 189.718 96.3 193.32C96.2985 195.364 96.7006 197.388 97.4831 199.275C98.2656 201.163 99.4132 202.877 100.86 204.32ZM204.32 122.88C206.868 120.333 208.453 116.981 208.806 113.396C209.159 109.811 208.258 106.214 206.256 103.219C204.254 100.223 201.275 98.0151 197.827 96.97C194.38 95.9249 190.676 96.1077 187.348 97.4873C184.02 98.8669 181.274 101.358 179.577 104.536C177.879 107.714 177.337 111.382 178.041 114.915C178.746 118.448 180.653 121.627 183.439 123.911C186.226 126.195 189.717 127.443 193.32 127.44C195.364 127.443 197.388 127.042 199.275 126.259C201.163 125.476 202.878 124.328 204.32 122.88ZM122.88 19.4205C120.333 16.8729 116.981 15.2876 113.395 14.9347C109.81 14.5817 106.213 15.483 103.218 17.4849C100.223 19.4868 98.0146 22.4654 96.9696 25.9131C95.9245 29.3608 96.1073 33.0642 97.4869 36.3922C98.8665 39.7202 101.358 42.4668 104.535 44.1639C107.713 45.861 111.381 46.4036 114.914 45.6992C118.447 44.9949 121.627 43.0871 123.911 40.301C126.195 37.515 127.442 34.0231 127.44 30.4205C127.44 28.3772 127.038 26.3539 126.255 24.4664C125.473 22.5788 124.326 20.8642 122.88 19.4205ZM19.42 100.86C16.8725 103.408 15.2872 106.76 14.9342 110.345C14.5813 113.93 15.4826 117.527 17.4844 120.522C19.4863 123.518 22.4649 125.726 25.9127 126.771C29.3604 127.816 33.0638 127.633 36.3918 126.254C39.7198 124.874 42.4664 122.383 44.1635 119.205C45.8606 116.027 46.4032 112.359 45.6988 108.826C44.9944 105.293 43.0866 102.114 40.3006 99.8296C37.5145 97.5455 34.0227 96.2983 30.42 96.3005C26.2938 96.3018 22.337 97.9421 19.42 100.86ZM100.86 100.86C98.3125 103.408 96.7272 106.76 96.3742 110.345C96.0213 113.93 96.9226 117.527 98.9244 120.522C100.926 123.518 103.905 125.726 107.353 126.771C110.8 127.816 114.504 127.633 117.832 126.254C121.16 124.874 123.906 122.383 125.604 119.205C127.301 116.027 127.843 112.359 127.139 108.826C126.434 105.293 124.527 102.114 121.741 99.8296C118.955 97.5455 115.463 96.2983 111.86 96.3005C109.817 96.299 107.793 96.701 105.905 97.4835C104.018 98.2661 102.303 99.4136 100.86 100.86Z\" fill=\"#00AEEF\"/>\n",
       "    </g>\n",
       "    <defs>\n",
       "        <clipPath id=\"clip0_4338_178347\">\n",
       "            <rect width=\"566.93\" height=\"223.75\" fill=\"white\"/>\n",
       "        </clipPath>\n",
       "    </defs>\n",
       "  </svg>\n",
       "</div>\n",
       "\n",
       "        <table class=\"jp-RenderedHTMLCommon\" style=\"border-collapse: collapse;color: var(--jp-ui-font-color1);font-size: var(--jp-ui-font-size1);\">\n",
       "    <tr>\n",
       "        <td style=\"text-align: left\"><b>Python version:</b></td>\n",
       "        <td style=\"text-align: left\"><b>3.12.4</b></td>\n",
       "    </tr>\n",
       "    <tr>\n",
       "        <td style=\"text-align: left\"><b>Ray version:</b></td>\n",
       "        <td style=\"text-align: left\"><b>2.46.0</b></td>\n",
       "    </tr>\n",
       "    \n",
       "</table>\n",
       "\n",
       "    </div>\n",
       "</div>\n"
      ]
     },
     "execution_count": 1,
     "metadata": {},
     "output_type": "execute_result"
    }
   ],
   "execution_count": 1
  },
  {
   "cell_type": "code",
   "id": "24129d47",
   "metadata": {
    "ExecuteTime": {
     "end_time": "2025-05-10T00:58:14.154553Z",
     "start_time": "2025-05-10T00:58:12.017435Z"
    }
   },
   "source": [
    "import ray\n",
    "import ray.data\n",
    "import requests\n",
    "\n",
    "\n",
    "# Step 1: Fetch disaster data from ReliefWeb API\n",
    "def fetch_crisis_data():\n",
    "    url = \"https://api.reliefweb.int/v1/disasters?appname=crisis-app&limit=100\"\n",
    "    response = requests.get(url)\n",
    "    data = response.json()[\"data\"]\n",
    "\n",
    "    def extract_info(item):\n",
    "        fields = item[\"fields\"]\n",
    "        return {\n",
    "            \"name\": fields.get(\"name\"),\n",
    "            \"type\": fields.get(\"type\")[0][\"name\"] if fields.get(\"type\") else None,\n",
    "            \"country\": fields.get(\"country\")[0][\"name\"] if fields.get(\"country\") else None,\n",
    "            \"date\": fields.get(\"date\", {}).get(\"created\"),\n",
    "            \"description\": fields.get(\"description\", \"\") or fields.get(\"name\", \"\")\n",
    "        }\n",
    "\n",
    "    return [extract_info(d) for d in data]\n",
    "\n",
    "# Step 2: Load data into Ray Dataset\n",
    "records = fetch_crisis_data()\n",
    "ds = ray.data.from_items(records)\n",
    "\n",
    "# Optional: Filter for floods only\n",
    "ds_filtered = ds.filter(lambda row: row[\"type\"] == \"Flood\")\n",
    "\n",
    "# Step 3: Define summarization using transformers (Flan-T5)\n",
    "def summarize_batch(df):\n",
    "    from transformers import pipeline\n",
    "    summarizer = pipeline(\"summarization\", model=\"google/flan-t5-base\")\n",
    "    df[\"summary\"] = df[\"description\"].apply(\n",
    "        lambda text: summarizer(text, max_length=60, min_length=10, do_sample=False)[0][\"summary_text\"]\n",
    "    )\n",
    "    return df\n",
    "\n",
    "# Step 4: Run summarization with map_batches (safe for Windows)\n",
    "summarized_ds = ds_filtered.map_batches(\n",
    "    summarize_batch,\n",
    "    batch_format=\"pandas\",\n",
    "    batch_size=4\n",
    ")\n",
    "\n",
    "# Step 5: Show results\n",
    "summarized_ds.show(5)\n",
    "\n",
    "# Optional: Save to file\n",
    "summarized_ds.write_parquet(\"summarized_crisis.parquet\")\n"
   ],
   "outputs": [
    {
     "name": "stderr",
     "output_type": "stream",
     "text": [
      "2025-05-09 20:58:12,466\tINFO util.py:154 -- Outdated packages:\n",
      "  ipywidgets==7.8.1 found, needs ipywidgets>=8\n",
      "Run `pip install -U ipywidgets`, then restart the notebook server for rich notebook output.\n",
      "/opt/anaconda3/lib/python3.12/site-packages/ray/data/dataset.py:1413: UserWarning: Use 'expr' instead of 'fn' when possible for performant filters.\n",
      "  warnings.warn(\n",
      "2025-05-09 20:58:12,989\tINFO dataset.py:3027 -- Tip: Use `take_batch()` instead of `take() / show()` to return records in pandas or numpy batch format.\n",
      "2025-05-09 20:58:12,992\tINFO logging.py:290 -- Registered dataset logger for dataset dataset_3_0\n",
      "2025-05-09 20:58:13,002\tINFO streaming_executor.py:117 -- Starting execution of Dataset dataset_3_0. Full logs are in /tmp/ray/session_2025-05-09_20-58-07_921291_9784/logs/ray-data\n",
      "2025-05-09 20:58:13,002\tINFO streaming_executor.py:118 -- Execution plan of Dataset dataset_3_0: InputDataBuffer[Input] -> TaskPoolMapOperator[Filter(<lambda>)] -> TaskPoolMapOperator[MapBatches(summarize_batch)] -> LimitOperator[limit=5]\n"
     ]
    },
    {
     "data": {
      "text/plain": [
       "Running 0: 0.00 row [00:00, ? row/s]"
      ],
      "application/vnd.jupyter.widget-view+json": {
       "version_major": 2,
       "version_minor": 0,
       "model_id": "121949fbf58049ea821b89a1206bdeda"
      }
     },
     "metadata": {},
     "output_type": "display_data"
    },
    {
     "data": {
      "text/plain": [
       "- Filter(<lambda>) 1: 0.00 row [00:00, ? row/s]"
      ],
      "application/vnd.jupyter.widget-view+json": {
       "version_major": 2,
       "version_minor": 0,
       "model_id": "1f71fdd243854cc591a2787e223a2539"
      }
     },
     "metadata": {},
     "output_type": "display_data"
    },
    {
     "data": {
      "text/plain": [
       "- MapBatches(summarize_batch) 2: 0.00 row [00:00, ? row/s]"
      ],
      "application/vnd.jupyter.widget-view+json": {
       "version_major": 2,
       "version_minor": 0,
       "model_id": "e7c70a4de13142f299abb01049d2f31f"
      }
     },
     "metadata": {},
     "output_type": "display_data"
    },
    {
     "data": {
      "text/plain": [
       "- limit=5 3: 0.00 row [00:00, ? row/s]"
      ],
      "application/vnd.jupyter.widget-view+json": {
       "version_major": 2,
       "version_minor": 0,
       "model_id": "e7b7547167c14e3199b3c00e39ebfcef"
      }
     },
     "metadata": {},
     "output_type": "display_data"
    },
    {
     "name": "stderr",
     "output_type": "stream",
     "text": [
      "2025-05-09 20:58:13,977\tINFO streaming_executor.py:220 -- ✔️  Dataset dataset_3_0 execution finished in 0.97 seconds\n",
      "2025-05-09 20:58:14,017\tINFO logging.py:290 -- Registered dataset logger for dataset dataset_5_0\n",
      "2025-05-09 20:58:14,019\tINFO streaming_executor.py:117 -- Starting execution of Dataset dataset_5_0. Full logs are in /tmp/ray/session_2025-05-09_20-58-07_921291_9784/logs/ray-data\n",
      "2025-05-09 20:58:14,020\tINFO streaming_executor.py:118 -- Execution plan of Dataset dataset_5_0: InputDataBuffer[Input] -> TaskPoolMapOperator[Filter(<lambda>)] -> TaskPoolMapOperator[MapBatches(summarize_batch)->Write]\n"
     ]
    },
    {
     "data": {
      "text/plain": [
       "Running 0: 0.00 row [00:00, ? row/s]"
      ],
      "application/vnd.jupyter.widget-view+json": {
       "version_major": 2,
       "version_minor": 0,
       "model_id": "36d53803eaa94ee7a5ab829b7e97ac6b"
      }
     },
     "metadata": {},
     "output_type": "display_data"
    },
    {
     "data": {
      "text/plain": [
       "- Filter(<lambda>) 1: 0.00 row [00:00, ? row/s]"
      ],
      "application/vnd.jupyter.widget-view+json": {
       "version_major": 2,
       "version_minor": 0,
       "model_id": "e14274f118424367bf379e58bfaf18d3"
      }
     },
     "metadata": {},
     "output_type": "display_data"
    },
    {
     "data": {
      "text/plain": [
       "- MapBatches(summarize_batch)->Write 2: 0.00 row [00:00, ? row/s]"
      ],
      "application/vnd.jupyter.widget-view+json": {
       "version_major": 2,
       "version_minor": 0,
       "model_id": "d8b3a9c1255b4a8ca1564afe1b52bf04"
      }
     },
     "metadata": {},
     "output_type": "display_data"
    },
    {
     "name": "stderr",
     "output_type": "stream",
     "text": [
      "2025-05-09 20:58:14,146\tINFO streaming_executor.py:220 -- ✔️  Dataset dataset_5_0 execution finished in 0.13 seconds\n",
      "2025-05-09 20:58:14,152\tINFO dataset.py:4537 -- Data sink Parquet finished. 0 rows and 0.0B data written.\n"
     ]
    }
   ],
   "execution_count": 2
  },
  {
   "metadata": {
    "ExecuteTime": {
     "end_time": "2025-05-10T00:54:33.972407Z",
     "start_time": "2025-05-10T00:54:07.264543Z"
    }
   },
   "cell_type": "code",
   "source": [
    "def summarize_batch(df):\n",
    "    from transformers import pipeline\n",
    "    summarizer = pipeline(\"summarization\", model=\"google/flan-t5-base\")\n",
    "\n",
    "    # Generate summaries\n",
    "    df[\"summary\"] = df[\"description\"].apply(lambda text: summarizer(text, max_length=60, min_length=10, do_sample=False)[0][\"summary_text\"])\n",
    "    return df\n",
    "\n",
    "# Run summarization in batches using pandas format\n",
    "summarized_ds = ds_filtered.map_batches(\n",
    "    summarize_batch,\n",
    "    batch_format=\"pandas\",  # use pandas to avoid serialization issues\n",
    "    batch_size=2\n",
    ")\n",
    "\n",
    "# Show the result\n",
    "summarized_ds.show()"
   ],
   "id": "cb0450928d359c95",
   "outputs": [
    {
     "name": "stderr",
     "output_type": "stream",
     "text": [
      "2025-05-09 20:54:07,267\tINFO logging.py:290 -- Registered dataset logger for dataset dataset_11_0\n",
      "2025-05-09 20:54:07,269\tINFO streaming_executor.py:117 -- Starting execution of Dataset dataset_11_0. Full logs are in /tmp/ray/session_2025-05-09_20-47-04_703001_9102/logs/ray-data\n",
      "2025-05-09 20:54:07,270\tINFO streaming_executor.py:118 -- Execution plan of Dataset dataset_11_0: InputDataBuffer[Input] -> TaskPoolMapOperator[Filter(<lambda>)] -> TaskPoolMapOperator[MapBatches(summarize_batch)] -> LimitOperator[limit=20]\n"
     ]
    },
    {
     "data": {
      "text/plain": [
       "Running 0: 0.00 row [00:00, ? row/s]"
      ],
      "application/vnd.jupyter.widget-view+json": {
       "version_major": 2,
       "version_minor": 0,
       "model_id": "ccd0e65b49a04203ab8d89376d1fec71"
      }
     },
     "metadata": {},
     "output_type": "display_data"
    },
    {
     "data": {
      "text/plain": [
       "- Filter(<lambda>) 1: 0.00 row [00:00, ? row/s]"
      ],
      "application/vnd.jupyter.widget-view+json": {
       "version_major": 2,
       "version_minor": 0,
       "model_id": "df5743cff26e453aa327d303d0b11c89"
      }
     },
     "metadata": {},
     "output_type": "display_data"
    },
    {
     "data": {
      "text/plain": [
       "- MapBatches(summarize_batch) 2: 0.00 row [00:00, ? row/s]"
      ],
      "application/vnd.jupyter.widget-view+json": {
       "version_major": 2,
       "version_minor": 0,
       "model_id": "26b1964151674d39b028018c5f504878"
      }
     },
     "metadata": {},
     "output_type": "display_data"
    },
    {
     "data": {
      "text/plain": [
       "- limit=20 3: 0.00 row [00:00, ? row/s]"
      ],
      "application/vnd.jupyter.widget-view+json": {
       "version_major": 2,
       "version_minor": 0,
       "model_id": "2f95dc528d1a4314b2c067a300c5eebf"
      }
     },
     "metadata": {},
     "output_type": "display_data"
    },
    {
     "name": "stderr",
     "output_type": "stream",
     "text": [
      "2025-05-09 20:54:07,390\tINFO streaming_executor.py:220 -- ✔️  Dataset dataset_11_0 execution finished in 0.12 seconds\n"
     ]
    }
   ],
   "execution_count": 14
  },
  {
   "metadata": {},
   "cell_type": "code",
   "outputs": [],
   "execution_count": null,
   "source": "",
   "id": "d4f970a31e99c923"
  }
 ],
 "metadata": {
  "kernelspec": {
   "display_name": "ray",
   "language": "python",
   "name": "python3"
  },
  "language_info": {
   "codemirror_mode": {
    "name": "ipython",
    "version": 3
   },
   "file_extension": ".py",
   "mimetype": "text/x-python",
   "name": "python",
   "nbconvert_exporter": "python",
   "pygments_lexer": "ipython3",
   "version": "3.12.9"
  }
 },
 "nbformat": 4,
 "nbformat_minor": 5
}
