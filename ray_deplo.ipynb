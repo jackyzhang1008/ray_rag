{
 "cells": [
  {
   "cell_type": "code",
   "execution_count": 3,
   "id": "a7395f5a",
   "metadata": {},
   "outputs": [
    {
     "name": "stdout",
     "output_type": "stream",
     "text": [
      "Requirement already satisfied: ray in c:\\users\\jacky\\anaconda3\\envs\\ray\\lib\\site-packages (2.45.0)\n",
      "Requirement already satisfied: click>=7.0 in c:\\users\\jacky\\anaconda3\\envs\\ray\\lib\\site-packages (from ray) (8.1.8)\n",
      "Requirement already satisfied: filelock in c:\\users\\jacky\\anaconda3\\envs\\ray\\lib\\site-packages (from ray) (3.18.0)\n",
      "Requirement already satisfied: jsonschema in c:\\users\\jacky\\anaconda3\\envs\\ray\\lib\\site-packages (from ray) (4.23.0)\n",
      "Requirement already satisfied: msgpack<2.0.0,>=1.0.0 in c:\\users\\jacky\\anaconda3\\envs\\ray\\lib\\site-packages (from ray) (1.1.0)\n",
      "Requirement already satisfied: packaging in c:\\users\\jacky\\anaconda3\\envs\\ray\\lib\\site-packages (from ray) (25.0)\n",
      "Requirement already satisfied: protobuf!=3.19.5,>=3.15.3 in c:\\users\\jacky\\anaconda3\\envs\\ray\\lib\\site-packages (from ray) (6.30.2)\n",
      "Requirement already satisfied: pyyaml in c:\\users\\jacky\\anaconda3\\envs\\ray\\lib\\site-packages (from ray) (6.0.2)\n",
      "Requirement already satisfied: requests in c:\\users\\jacky\\anaconda3\\envs\\ray\\lib\\site-packages (from ray) (2.32.3)\n",
      "Requirement already satisfied: colorama in c:\\users\\jacky\\anaconda3\\envs\\ray\\lib\\site-packages (from click>=7.0->ray) (0.4.6)\n",
      "Requirement already satisfied: attrs>=22.2.0 in c:\\users\\jacky\\anaconda3\\envs\\ray\\lib\\site-packages (from jsonschema->ray) (25.3.0)\n",
      "Requirement already satisfied: jsonschema-specifications>=2023.03.6 in c:\\users\\jacky\\anaconda3\\envs\\ray\\lib\\site-packages (from jsonschema->ray) (2025.4.1)\n",
      "Requirement already satisfied: referencing>=0.28.4 in c:\\users\\jacky\\anaconda3\\envs\\ray\\lib\\site-packages (from jsonschema->ray) (0.36.2)\n",
      "Requirement already satisfied: rpds-py>=0.7.1 in c:\\users\\jacky\\anaconda3\\envs\\ray\\lib\\site-packages (from jsonschema->ray) (0.24.0)\n",
      "Requirement already satisfied: typing-extensions>=4.4.0 in c:\\users\\jacky\\anaconda3\\envs\\ray\\lib\\site-packages (from referencing>=0.28.4->jsonschema->ray) (4.13.2)\n",
      "Requirement already satisfied: charset-normalizer<4,>=2 in c:\\users\\jacky\\anaconda3\\envs\\ray\\lib\\site-packages (from requests->ray) (3.4.2)\n",
      "Requirement already satisfied: idna<4,>=2.5 in c:\\users\\jacky\\anaconda3\\envs\\ray\\lib\\site-packages (from requests->ray) (3.10)\n",
      "Requirement already satisfied: urllib3<3,>=1.21.1 in c:\\users\\jacky\\anaconda3\\envs\\ray\\lib\\site-packages (from requests->ray) (2.4.0)\n",
      "Requirement already satisfied: certifi>=2017.4.17 in c:\\users\\jacky\\anaconda3\\envs\\ray\\lib\\site-packages (from requests->ray) (2025.4.26)\n"
     ]
    }
   ],
   "source": [
    "!pip install ray\n"
   ]
  },
  {
   "cell_type": "code",
   "execution_count": null,
   "id": "24129d47",
   "metadata": {},
   "outputs": [],
   "source": []
  }
 ],
 "metadata": {
  "kernelspec": {
   "display_name": "ray",
   "language": "python",
   "name": "python3"
  },
  "language_info": {
   "codemirror_mode": {
    "name": "ipython",
    "version": 3
   },
   "file_extension": ".py",
   "mimetype": "text/x-python",
   "name": "python",
   "nbconvert_exporter": "python",
   "pygments_lexer": "ipython3",
   "version": "3.12.9"
  }
 },
 "nbformat": 4,
 "nbformat_minor": 5
}
