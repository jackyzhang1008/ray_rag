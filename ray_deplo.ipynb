{
 "cells": [
  {
   "cell_type": "code",
   "execution_count": null,
   "id": "a7395f5a",
   "metadata": {},
   "outputs": [
    {
     "name": "stdout",
     "output_type": "stream",
     "text": [
      "Requirement already satisfied: ray in c:\\users\\jacky\\anaconda3\\envs\\ray\\lib\\site-packages (2.45.0)\n",
      "Requirement already satisfied: click>=7.0 in c:\\users\\jacky\\anaconda3\\envs\\ray\\lib\\site-packages (from ray) (8.1.8)\n",
      "Requirement already satisfied: filelock in c:\\users\\jacky\\anaconda3\\envs\\ray\\lib\\site-packages (from ray) (3.18.0)\n",
      "Requirement already satisfied: jsonschema in c:\\users\\jacky\\anaconda3\\envs\\ray\\lib\\site-packages (from ray) (4.23.0)\n",
      "Requirement already satisfied: msgpack<2.0.0,>=1.0.0 in c:\\users\\jacky\\anaconda3\\envs\\ray\\lib\\site-packages (from ray) (1.1.0)\n",
      "Requirement already satisfied: packaging in c:\\users\\jacky\\anaconda3\\envs\\ray\\lib\\site-packages (from ray) (25.0)\n",
      "Requirement already satisfied: protobuf!=3.19.5,>=3.15.3 in c:\\users\\jacky\\anaconda3\\envs\\ray\\lib\\site-packages (from ray) (6.30.2)\n",
      "Requirement already satisfied: pyyaml in c:\\users\\jacky\\anaconda3\\envs\\ray\\lib\\site-packages (from ray) (6.0.2)\n",
      "Requirement already satisfied: requests in c:\\users\\jacky\\anaconda3\\envs\\ray\\lib\\site-packages (from ray) (2.32.3)\n",
      "Requirement already satisfied: colorama in c:\\users\\jacky\\anaconda3\\envs\\ray\\lib\\site-packages (from click>=7.0->ray) (0.4.6)\n",
      "Requirement already satisfied: attrs>=22.2.0 in c:\\users\\jacky\\anaconda3\\envs\\ray\\lib\\site-packages (from jsonschema->ray) (25.3.0)\n",
      "Requirement already satisfied: jsonschema-specifications>=2023.03.6 in c:\\users\\jacky\\anaconda3\\envs\\ray\\lib\\site-packages (from jsonschema->ray) (2025.4.1)\n",
      "Requirement already satisfied: referencing>=0.28.4 in c:\\users\\jacky\\anaconda3\\envs\\ray\\lib\\site-packages (from jsonschema->ray) (0.36.2)\n",
      "Requirement already satisfied: rpds-py>=0.7.1 in c:\\users\\jacky\\anaconda3\\envs\\ray\\lib\\site-packages (from jsonschema->ray) (0.24.0)\n",
      "Requirement already satisfied: typing-extensions>=4.4.0 in c:\\users\\jacky\\anaconda3\\envs\\ray\\lib\\site-packages (from referencing>=0.28.4->jsonschema->ray) (4.13.2)\n",
      "Requirement already satisfied: charset-normalizer<4,>=2 in c:\\users\\jacky\\anaconda3\\envs\\ray\\lib\\site-packages (from requests->ray) (3.4.2)\n",
      "Requirement already satisfied: idna<4,>=2.5 in c:\\users\\jacky\\anaconda3\\envs\\ray\\lib\\site-packages (from requests->ray) (3.10)\n",
      "Requirement already satisfied: urllib3<3,>=1.21.1 in c:\\users\\jacky\\anaconda3\\envs\\ray\\lib\\site-packages (from requests->ray) (2.4.0)\n",
      "Requirement already satisfied: certifi>=2017.4.17 in c:\\users\\jacky\\anaconda3\\envs\\ray\\lib\\site-packages (from requests->ray) (2025.4.26)\n",
      "Requirement already satisfied: ipywidgets in c:\\users\\jacky\\anaconda3\\envs\\ray\\lib\\site-packages (8.1.7)\n",
      "Requirement already satisfied: comm>=0.1.3 in c:\\users\\jacky\\anaconda3\\envs\\ray\\lib\\site-packages (from ipywidgets) (0.2.2)\n",
      "Requirement already satisfied: ipython>=6.1.0 in c:\\users\\jacky\\anaconda3\\envs\\ray\\lib\\site-packages (from ipywidgets) (9.2.0)\n",
      "Requirement already satisfied: traitlets>=4.3.1 in c:\\users\\jacky\\anaconda3\\envs\\ray\\lib\\site-packages (from ipywidgets) (5.14.3)\n",
      "Requirement already satisfied: widgetsnbextension~=4.0.14 in c:\\users\\jacky\\anaconda3\\envs\\ray\\lib\\site-packages (from ipywidgets) (4.0.14)\n",
      "Requirement already satisfied: jupyterlab_widgets~=3.0.15 in c:\\users\\jacky\\anaconda3\\envs\\ray\\lib\\site-packages (from ipywidgets) (3.0.15)\n",
      "Requirement already satisfied: colorama in c:\\users\\jacky\\anaconda3\\envs\\ray\\lib\\site-packages (from ipython>=6.1.0->ipywidgets) (0.4.6)\n",
      "Requirement already satisfied: decorator in c:\\users\\jacky\\anaconda3\\envs\\ray\\lib\\site-packages (from ipython>=6.1.0->ipywidgets) (5.2.1)\n",
      "Requirement already satisfied: ipython-pygments-lexers in c:\\users\\jacky\\anaconda3\\envs\\ray\\lib\\site-packages (from ipython>=6.1.0->ipywidgets) (1.1.1)\n",
      "Requirement already satisfied: jedi>=0.16 in c:\\users\\jacky\\anaconda3\\envs\\ray\\lib\\site-packages (from ipython>=6.1.0->ipywidgets) (0.19.2)\n",
      "Requirement already satisfied: matplotlib-inline in c:\\users\\jacky\\anaconda3\\envs\\ray\\lib\\site-packages (from ipython>=6.1.0->ipywidgets) (0.1.7)\n",
      "Requirement already satisfied: prompt_toolkit<3.1.0,>=3.0.41 in c:\\users\\jacky\\anaconda3\\envs\\ray\\lib\\site-packages (from ipython>=6.1.0->ipywidgets) (3.0.51)\n",
      "Requirement already satisfied: pygments>=2.4.0 in c:\\users\\jacky\\anaconda3\\envs\\ray\\lib\\site-packages (from ipython>=6.1.0->ipywidgets) (2.19.1)\n",
      "Requirement already satisfied: stack_data in c:\\users\\jacky\\anaconda3\\envs\\ray\\lib\\site-packages (from ipython>=6.1.0->ipywidgets) (0.6.3)\n",
      "Requirement already satisfied: wcwidth in c:\\users\\jacky\\anaconda3\\envs\\ray\\lib\\site-packages (from prompt_toolkit<3.1.0,>=3.0.41->ipython>=6.1.0->ipywidgets) (0.2.13)\n",
      "Requirement already satisfied: parso<0.9.0,>=0.8.4 in c:\\users\\jacky\\anaconda3\\envs\\ray\\lib\\site-packages (from jedi>=0.16->ipython>=6.1.0->ipywidgets) (0.8.4)\n",
      "Requirement already satisfied: executing>=1.2.0 in c:\\users\\jacky\\anaconda3\\envs\\ray\\lib\\site-packages (from stack_data->ipython>=6.1.0->ipywidgets) (2.2.0)\n",
      "Requirement already satisfied: asttokens>=2.1.0 in c:\\users\\jacky\\anaconda3\\envs\\ray\\lib\\site-packages (from stack_data->ipython>=6.1.0->ipywidgets) (3.0.0)\n",
      "Requirement already satisfied: pure_eval in c:\\users\\jacky\\anaconda3\\envs\\ray\\lib\\site-packages (from stack_data->ipython>=6.1.0->ipywidgets) (0.2.3)\n",
      "Requirement already satisfied: pandas in c:\\users\\jacky\\anaconda3\\envs\\ray\\lib\\site-packages (2.2.3)\n",
      "Requirement already satisfied: numpy>=1.26.0 in c:\\users\\jacky\\anaconda3\\envs\\ray\\lib\\site-packages (from pandas) (2.2.5)\n",
      "Requirement already satisfied: python-dateutil>=2.8.2 in c:\\users\\jacky\\anaconda3\\envs\\ray\\lib\\site-packages (from pandas) (2.9.0.post0)\n",
      "Requirement already satisfied: pytz>=2020.1 in c:\\users\\jacky\\anaconda3\\envs\\ray\\lib\\site-packages (from pandas) (2025.2)\n",
      "Requirement already satisfied: tzdata>=2022.7 in c:\\users\\jacky\\anaconda3\\envs\\ray\\lib\\site-packages (from pandas) (2025.2)\n",
      "Requirement already satisfied: six>=1.5 in c:\\users\\jacky\\anaconda3\\envs\\ray\\lib\\site-packages (from python-dateutil>=2.8.2->pandas) (1.17.0)\n",
      "Requirement already satisfied: pyarrow in c:\\users\\jacky\\anaconda3\\envs\\ray\\lib\\site-packages (20.0.0)\n",
      "Requirement already satisfied: ray in c:\\users\\jacky\\anaconda3\\envs\\ray\\lib\\site-packages (2.45.0)\n",
      "Requirement already satisfied: pyarrow in c:\\users\\jacky\\anaconda3\\envs\\ray\\lib\\site-packages (20.0.0)\n",
      "Requirement already satisfied: click>=7.0 in c:\\users\\jacky\\anaconda3\\envs\\ray\\lib\\site-packages (from ray) (8.1.8)\n",
      "Requirement already satisfied: filelock in c:\\users\\jacky\\anaconda3\\envs\\ray\\lib\\site-packages (from ray) (3.18.0)\n",
      "Requirement already satisfied: jsonschema in c:\\users\\jacky\\anaconda3\\envs\\ray\\lib\\site-packages (from ray) (4.23.0)\n",
      "Requirement already satisfied: msgpack<2.0.0,>=1.0.0 in c:\\users\\jacky\\anaconda3\\envs\\ray\\lib\\site-packages (from ray) (1.1.0)\n",
      "Requirement already satisfied: packaging in c:\\users\\jacky\\anaconda3\\envs\\ray\\lib\\site-packages (from ray) (25.0)\n",
      "Requirement already satisfied: protobuf!=3.19.5,>=3.15.3 in c:\\users\\jacky\\anaconda3\\envs\\ray\\lib\\site-packages (from ray) (6.30.2)\n",
      "Requirement already satisfied: pyyaml in c:\\users\\jacky\\anaconda3\\envs\\ray\\lib\\site-packages (from ray) (6.0.2)\n",
      "Requirement already satisfied: requests in c:\\users\\jacky\\anaconda3\\envs\\ray\\lib\\site-packages (from ray) (2.32.3)\n",
      "Requirement already satisfied: colorama in c:\\users\\jacky\\anaconda3\\envs\\ray\\lib\\site-packages (from click>=7.0->ray) (0.4.6)\n",
      "Requirement already satisfied: attrs>=22.2.0 in c:\\users\\jacky\\anaconda3\\envs\\ray\\lib\\site-packages (from jsonschema->ray) (25.3.0)\n",
      "Requirement already satisfied: jsonschema-specifications>=2023.03.6 in c:\\users\\jacky\\anaconda3\\envs\\ray\\lib\\site-packages (from jsonschema->ray) (2025.4.1)\n",
      "Requirement already satisfied: referencing>=0.28.4 in c:\\users\\jacky\\anaconda3\\envs\\ray\\lib\\site-packages (from jsonschema->ray) (0.36.2)\n",
      "Requirement already satisfied: rpds-py>=0.7.1 in c:\\users\\jacky\\anaconda3\\envs\\ray\\lib\\site-packages (from jsonschema->ray) (0.24.0)\n",
      "Requirement already satisfied: typing-extensions>=4.4.0 in c:\\users\\jacky\\anaconda3\\envs\\ray\\lib\\site-packages (from referencing>=0.28.4->jsonschema->ray) (4.13.2)\n",
      "Requirement already satisfied: charset-normalizer<4,>=2 in c:\\users\\jacky\\anaconda3\\envs\\ray\\lib\\site-packages (from requests->ray) (3.4.2)\n",
      "Requirement already satisfied: idna<4,>=2.5 in c:\\users\\jacky\\anaconda3\\envs\\ray\\lib\\site-packages (from requests->ray) (3.10)\n",
      "Requirement already satisfied: urllib3<3,>=1.21.1 in c:\\users\\jacky\\anaconda3\\envs\\ray\\lib\\site-packages (from requests->ray) (2.4.0)\n",
      "Requirement already satisfied: certifi>=2017.4.17 in c:\\users\\jacky\\anaconda3\\envs\\ray\\lib\\site-packages (from requests->ray) (2025.4.26)\n"
     ]
    },
    {
     "name": "stderr",
     "output_type": "stream",
     "text": [
      "ERROR: Could not find a version that satisfies the requirement ray-dashboard (from versions: none)\n",
      "ERROR: No matching distribution found for ray-dashboard\n"
     ]
    }
   ],
   "source": [
    "!pip install ray\n",
    "!pip install -U ipywidgets\n",
    "!pip install pandas\n",
    "!pip install pyarrow\n",
    "!pip install ray pyarrow"
   ]
  },
  {
   "cell_type": "code",
   "execution_count": null,
   "id": "8a032396",
   "metadata": {},
   "outputs": [
    {
     "name": "stderr",
     "output_type": "stream",
     "text": [
      "2025-05-07 00:18:54,943\tERROR services.py:1362 -- Failed to start the dashboard , return code 3221226505\n",
      "2025-05-07 00:18:54,943\tERROR services.py:1387 -- Error should be written to 'dashboard.log' or 'dashboard.err'. We are printing the last 20 lines for you. See 'https://docs.ray.io/en/master/ray-observability/user-guides/configure-logging.html#logging-directory-structure' to find where the log file is.\n",
      "2025-05-07 00:18:54,950\tERROR services.py:1431 -- \n",
      "The last 20 lines of C:\\Users\\Jacky\\AppData\\Local\\Temp\\ray\\session_2025-05-07_00-18-53_494631_585556\\logs\\dashboard.log (it contains the error message from the dashboard): \n",
      "Traceback (most recent call last):\n",
      "  File \"c:\\Users\\Jacky\\anaconda3\\envs\\ray\\Lib\\site-packages\\ray\\dashboard\\dashboard.py\", line 247, in <module>\n",
      "    logging_utils.redirect_stdout_stderr_if_needed(\n",
      "  File \"c:\\Users\\Jacky\\anaconda3\\envs\\ray\\Lib\\site-packages\\ray\\_private\\logging_utils.py\", line 48, in redirect_stdout_stderr_if_needed\n",
      "    sys.stderr = open_log(stderr_fileno, unbuffered=True, closefd=False)\n",
      "                 ^^^^^^^^^^^^^^^^^^^^^^^^^^^^^^^^^^^^^^^^^^^^^^^^^^^^^^^\n",
      "  File \"c:\\Users\\Jacky\\anaconda3\\envs\\ray\\Lib\\site-packages\\ray\\_private\\utils.py\", line 446, in open_log\n",
      "    stream = open(path, **kwargs)\n",
      "             ^^^^^^^^^^^^^^^^^^^^\n",
      "OSError: [WinError 6] The handle is invalid\n",
      "\n",
      "\n",
      "2025-05-07 00:18:55,102\tINFO worker.py:1888 -- Started a local Ray instance.\n"
     ]
    }
   ],
   "source": [
    "import ray.data\n",
    "\n",
    "ds = ray.data.range(5)\n",
    "ds.show()\n"
   ]
  },
  {
   "cell_type": "code",
   "execution_count": null,
   "id": "24129d47",
   "metadata": {},
   "outputs": [
    {
     "name": "stderr",
     "output_type": "stream",
     "text": [
      "2025-05-07 00:09:57,239\tERROR services.py:1362 -- Failed to start the dashboard , return code 3221226505\n",
      "2025-05-07 00:09:57,240\tERROR services.py:1387 -- Error should be written to 'dashboard.log' or 'dashboard.err'. We are printing the last 20 lines for you. See 'https://docs.ray.io/en/master/ray-observability/user-guides/configure-logging.html#logging-directory-structure' to find where the log file is.\n",
      "2025-05-07 00:09:57,246\tERROR services.py:1431 -- \n",
      "The last 20 lines of C:\\Users\\Jacky\\AppData\\Local\\Temp\\ray\\session_2025-05-07_00-09-55_795117_583536\\logs\\dashboard.log (it contains the error message from the dashboard): \n",
      "Traceback (most recent call last):\n",
      "  File \"c:\\Users\\Jacky\\anaconda3\\envs\\ray\\Lib\\site-packages\\ray\\dashboard\\dashboard.py\", line 247, in <module>\n",
      "    logging_utils.redirect_stdout_stderr_if_needed(\n",
      "  File \"c:\\Users\\Jacky\\anaconda3\\envs\\ray\\Lib\\site-packages\\ray\\_private\\logging_utils.py\", line 48, in redirect_stdout_stderr_if_needed\n",
      "    sys.stderr = open_log(stderr_fileno, unbuffered=True, closefd=False)\n",
      "                 ^^^^^^^^^^^^^^^^^^^^^^^^^^^^^^^^^^^^^^^^^^^^^^^^^^^^^^^\n",
      "  File \"c:\\Users\\Jacky\\anaconda3\\envs\\ray\\Lib\\site-packages\\ray\\_private\\utils.py\", line 446, in open_log\n",
      "    stream = open(path, **kwargs)\n",
      "             ^^^^^^^^^^^^^^^^^^^^\n",
      "OSError: [WinError 6] The handle is invalid\n",
      "\n",
      "\n",
      "2025-05-07 00:09:57,397\tINFO worker.py:1888 -- Started a local Ray instance.\n"
     ]
    }
   ],
   "source": [
    "import requests\n",
    "from ray.data.datasource import Datasource, ReadTask\n",
    "from typing import List\n",
    "import pandas as pd\n",
    "\n",
    "\n",
    "class CrisisAPIDatasource(Datasource):\n",
    "    def prepare_read(self, parallelism: int, **kwargs) -> List[ReadTask]:\n",
    "        def read():\n",
    "            # Simulate one partition's data\n",
    "            response = requests.get(\"https://api.crisiswatch.org/v1/events\")\n",
    "            data = response.json()[\"results\"]\n",
    "            return iter([pd.DataFrame(data)])\n",
    "\n",
    "        return [ReadTask(read, lambda: 1)]\n",
    "\n",
    "# Load data using the custom API datasource\n",
    "ds = ray.data.read_datasource(CrisisAPIDatasource())\n",
    "\n",
    "# Show some of the results\n",
    "ds.show(limit=5)\n",
    "\n"
   ]
  }
 ],
 "metadata": {
  "kernelspec": {
   "display_name": "ray",
   "language": "python",
   "name": "python3"
  },
  "language_info": {
   "codemirror_mode": {
    "name": "ipython",
    "version": 3
   },
   "file_extension": ".py",
   "mimetype": "text/x-python",
   "name": "python",
   "nbconvert_exporter": "python",
   "pygments_lexer": "ipython3",
   "version": "3.12.9"
  }
 },
 "nbformat": 4,
 "nbformat_minor": 5
}
